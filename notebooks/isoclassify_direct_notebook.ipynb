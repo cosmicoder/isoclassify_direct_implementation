{
 "cells": [
  {
   "cell_type": "markdown",
   "metadata": {},
   "source": [
    "# Python Notebook for Easy Implementation of Isoclassify Direct Method"
   ]
  },
  {
   "cell_type": "markdown",
   "metadata": {},
   "source": [
    "Author: Aniket Sanghi\n",
    "\n",
    "Institution: The University of Texas at Austin\n",
    "\n",
    "This is a general purpose python notebook to work with the isoclassify package to extract stellar parameters using photometry. As the user, you just have to specify the filepaths on your system (corresponding to the location of your files and installations) and the names of the columns in your FITS file. Follow the comments starting with USER. Generally, users will just have to modify cell 1.1 and run subsequent cells as is.\n",
    "\n",
    "Pre-Requisite: Installation of Isoclassify from https://github.com/danxhuber/isoclassify\n",
    "\n",
    "Note: The program will NOT crash if your data has NaN values."
   ]
  },
  {
   "cell_type": "markdown",
   "metadata": {},
   "source": [
    "## User Inputs: ACTION REQUIRED"
   ]
  },
  {
   "cell_type": "code",
   "execution_count": null,
   "metadata": {
    "ExecuteTime": {
     "end_time": "2020-07-11T02:48:50.492065Z",
     "start_time": "2020-07-11T02:48:50.230319Z"
    }
   },
   "outputs": [],
   "source": [
    "# USER: If no data is available leave the assignment as is.\n",
    "\n",
    "# USER: Enter your system paths to the FITS file and dust map installation\n",
    "fits_filepath = 'vl_samples/gliese_match_j2000.fits'\n",
    "dust_map_path = '/Users/aniket/dust_maps'\n",
    "\n",
    "# USER: If you have defined a subset for your data that is a boolean column and you wish to use those datapoints only. \n",
    "# Enter the name of the column and set flag to 1\n",
    "bool_subset_col = ''\n",
    "bool_subset_flag = 0\n",
    "\n",
    "# USER: Enter the names of the columns storing the respective data in your FITS File\n",
    "# If there are multiple columns for the same photometric band (arising from cross-matches etc.),\n",
    "# specify names of additional columns in '' separated by commas\n",
    "# The code will utilize the column that has photometry values and ignore ones that do not.\n",
    "# NOTE: Multiple column capability is not available for RA, Dec, parallax, and parallax error\n",
    "# NOTE: If you are specifying a photometric band column but do not have an error column, \n",
    "# add '' to the error column name.\n",
    "\n",
    "# Positional Data Columns\n",
    "ra_col = 'ra'                  # decimal degrees\n",
    "dec_col = 'dec'                # decimal degrees\n",
    "plx_col = 'parallax'           # arcseconds\n",
    "plx_err_col = 'parallax_error' # arcseconds\n",
    "\n",
    "# Gaia Photometry\n",
    "Gmag_col = ['phot_g_mean_mag']\n",
    "Gmag_err_col = ['phot_g_mean_mag_error']\n",
    "BPmag_col = ['phot_bp_mean_mag']\n",
    "BPmag_err_col = ['phot_bp_mean_mag_error']\n",
    "RPmag_col = ['phot_rp_mean_mag']\n",
    "RPmag_err_col = ['phot_rp_mean_mag_error']\n",
    "\n",
    "# 2MASS or Equivalent Photometry\n",
    "Jmag_col = ['J_2MASS']\n",
    "Jmag_err_col = ['J_2MASS_err']\n",
    "Hmag_col = ['H_2MASS']\n",
    "Hmag_err_col = ['H_2MASS_err']\n",
    "Kmag_col = ['K_2MASS']\n",
    "Kmag_err_col = ['K_2MASS_err']\n",
    "\n",
    "# PAN-STARRS or Equivalent Photometry\n",
    "gmag_col = ['g_P1']\n",
    "gmag_err_col = ['g_P1_err']\n",
    "rmag_col = ['r_P1']\n",
    "rmag_err_col = ['r_P1_err']\n",
    "imag_col = ['i_P1']\n",
    "imag_err_col = ['i_P1_err']\n",
    "zmag_col = ['z_P1']\n",
    "zmag_err_col = ['z_P1_err']\n",
    "\n",
    "# Optical Band Photometry\n",
    "bmag_col = ['Bmag']\n",
    "bmag_err_col = ['']\n",
    "vmag_col = ['Vmag']\n",
    "vmag_err_col = ['']\n",
    "\n",
    "btmag_col = []\n",
    "btmag_err_col = []\n",
    "vtmag_col = []\n",
    "vtmag_err_col = []\n",
    "\n",
    "# Dustmap to be used\n",
    "dustmap = 'zero'\n",
    "\n",
    "# Switches\n",
    "# USER: Change plot to 1 if you would like isoclassify to plot parameter\n",
    "# distributions, change print_bolometric_luminosities and print_teffs to 1 to print those\n",
    "\n",
    "plot = 0\n",
    "print_bolometric_luminosities = 1\n",
    "print_teffs = 0"
   ]
  },
  {
   "cell_type": "markdown",
   "metadata": {},
   "source": [
    "## Photometry Addition Function"
   ]
  },
  {
   "cell_type": "code",
   "execution_count": null,
   "metadata": {
    "ExecuteTime": {
     "end_time": "2020-07-11T02:37:24.924786Z",
     "start_time": "2020-07-11T02:37:24.701845Z"
    }
   },
   "outputs": [],
   "source": [
    "# USER: Do not modify contents. Run as is.\n",
    "\n",
    "def isoclassify_direct_photometry(photometry_cols, photometry_dict):\n",
    "    \n",
    "    band = []\n",
    "    band_flag = 0\n",
    "    keys = list(photometry_dict.keys())\n",
    "    no_band = ['bpmag', 'rpmag', 'gmag', 'zmag']\n",
    "    \n",
    "    for counter in range(0, len(photometry_cols), 2):\n",
    "        \n",
    "        photo_flag = 0\n",
    "        \n",
    "        for ctr in range(0, len(photometry_cols[counter])):\n",
    "            \n",
    "            if(photo_flag == 0):\n",
    "                \n",
    "                if(photometry_cols[counter][ctr] != '' and ~np.isnan(data[index][photometry_cols[counter][ctr]])):\n",
    "\n",
    "                    if(not (keys[counter] in no_band)):\n",
    "                        band.append(keys[counter])\n",
    "\n",
    "                    photometry_dict[keys[counter]] = data[index][photometry_cols[counter][ctr]]\n",
    "                    if(photometry_cols[counter+1][ctr] != ''):\n",
    "                        photometry_dict[keys[counter+1]] = data[index][photometry_cols[counter+1][ctr]]\n",
    "                    \n",
    "                    photo_flag = 1\n",
    "            \n",
    "            else:\n",
    "                break\n",
    "            \n",
    "    if(len(band)):\n",
    "        band_flag = 1\n",
    "        \n",
    "    return photometry_dict, band, band_flag"
   ]
  },
  {
   "cell_type": "markdown",
   "metadata": {},
   "source": [
    "## Package Set-up"
   ]
  },
  {
   "cell_type": "code",
   "execution_count": null,
   "metadata": {
    "ExecuteTime": {
     "end_time": "2020-07-11T02:37:25.906462Z",
     "start_time": "2020-07-11T02:37:25.187194Z"
    }
   },
   "outputs": [],
   "source": [
    "# USER: Do not modify contents. Run as is.\n",
    "\n",
    "%matplotlib inline\n",
    "%reload_ext autoreload\n",
    "%autoreload 2\n",
    "\n",
    "import os \n",
    "import h5py\n",
    "import numpy as np\n",
    "import astropy.units as units\n",
    "from astropy.io import fits\n",
    "from astropy.table import Table\n",
    "\n",
    "# Define Environment Variable to Dust Maps\n",
    "os.environ['DUST_DIR'] = dust_map_path\n",
    "\n",
    "from isoclassify import DATADIR\n",
    "from isoclassify.direct import classify as classify_direct\n",
    "from isoclassify.extinction import query_dustmodel_coords\n",
    "\n",
    "# Define path to Bolometric Correction Grid\n",
    "fn = os.path.join(DATADIR,'bcgrid.h5')\n",
    "bcmodel = h5py.File(fn,'r', driver='core', backing_store=False)\n",
    "\n",
    "# Open FITS file\n",
    "hdu_list = fits.open(fits_filepath, memmap=True)\n",
    "data = hdu_list[1].data\n",
    "hdu_list.close()\n",
    "\n",
    "if(bool_subset_flag):\n",
    "    data = data[data[bool_subset_col] == True]\n",
    "    \n",
    "# Output Parameters\n",
    "lum = []\n",
    "teff = []"
   ]
  },
  {
   "cell_type": "markdown",
   "metadata": {},
   "source": [
    "## Isoclassify"
   ]
  },
  {
   "cell_type": "code",
   "execution_count": null,
   "metadata": {
    "ExecuteTime": {
     "end_time": "2020-07-11T02:38:09.500932Z",
     "start_time": "2020-07-11T02:37:25.916877Z"
    }
   },
   "outputs": [],
   "source": [
    "# USER: Do not modify contents. Run as is.\n",
    "\n",
    "for index in range(0, len(data)):\n",
    "    \n",
    "    # Index printed for reference\n",
    "    print(f'Index: {index}')\n",
    "    \n",
    "    # Variable initializations\n",
    "    ra = -99\n",
    "    dec = -99\n",
    "    plx = -99\n",
    "    plx_err = -99\n",
    "    \n",
    "    # List of photometry column names\n",
    "    photometry_cols = [Gmag_col, Gmag_err_col, BPmag_col, BPmag_err_col, RPmag_col, RPmag_err_col, \n",
    "                   Jmag_col, Jmag_err_col, Hmag_col, Hmag_err_col, Kmag_col, Kmag_err_col, \n",
    "                   gmag_col, gmag_err_col, rmag_col, rmag_err_col, \n",
    "                   imag_col, imag_err_col, zmag_col, zmag_err_col, \n",
    "                   bmag_col, bmag_err_col, vmag_col, vmag_err_col, btmag_col, btmag_err_col, \n",
    "                   vtmag_col, vtmag_err_col]\n",
    "    \n",
    "    # Initialized dictionary of photometry variables\n",
    "    photometry_dict = {'gamag': -99, 'gamage': -99, 'bpmag': -99, 'bpmage': -99, 'rpmag': -99, 'rpmage': -99, \n",
    "                       'jmag': -99, 'jmage': -99, 'hmag': -99, 'hmage': -99, 'kmag': -99, 'kmage': -99, \n",
    "                       'gmag': -99, 'gmage': -99, 'rmag': -99, 'rmage': -99, 'imag': -99, 'image': -99,\n",
    "                       'zmag': -99, 'zmage': -99, 'bmag': -99, 'bmage': -99, 'vmag': -99, 'vmage': -99, \n",
    "                       'btmag': -99, 'btmage': -99, 'vtmag': -99, 'vtmage': -99}\n",
    "\n",
    "    # Flag to check if band is defined\n",
    "    band_flag = 0\n",
    "    \n",
    "    # Add RA and Dec\n",
    "    x = classify_direct.obsdata()\n",
    "    x.addcoords(data[index][ra_col], data[index][dec_col])\n",
    "    \n",
    "    # Add parallax in arcseconds\n",
    "    x.addplx(data[index][plx_col]/1000,data[index][plx_err_col]/1000)\n",
    "          \n",
    "    # Function to read all photometry\n",
    "    photometry_dict, band, band_flag = isoclassify_direct_photometry(photometry_cols, photometry_dict)\n",
    "     \n",
    "    \n",
    "    # Add photometry\n",
    "    x.addgriz([photometry_dict['gmag'], photometry_dict['rmag'], photometry_dict['imag'], photometry_dict['zmag']], \n",
    "              [photometry_dict['gmage'], photometry_dict['rmage'], photometry_dict['image'], \n",
    "               photometry_dict['zmage']])\n",
    "    \n",
    "    x.addjhk([photometry_dict['jmag'], photometry_dict['hmag'], photometry_dict['kmag']], \n",
    "             [photometry_dict['jmage'], photometry_dict['hmage'], photometry_dict['kmage']])\n",
    "    \n",
    "    x.addgaia([photometry_dict['gamag'], photometry_dict['bpmag'], photometry_dict['rpmag']], \n",
    "              [photometry_dict['gamage'], photometry_dict['bpmage'], photometry_dict['rpmage']])\n",
    "    \n",
    "    x.addbv([photometry_dict['bmag'], photometry_dict['vmag']], \n",
    "            [photometry_dict['bmage'], photometry_dict['vmage']])\n",
    "    \n",
    "    x.addbvt([photometry_dict['btmag'], photometry_dict['vtmag']], \n",
    "            [photometry_dict['btmage'], photometry_dict['vtmage']])\n",
    "    \n",
    "    # Dustmodel extraction\n",
    "    dustmodel, ext = query_dustmodel_coords(x.ra, x.dec, dustmap)\n",
    "    \n",
    "    # Run Isoclassify Direct and test all bands\n",
    "    for counter, test_band in enumerate(band):  \n",
    "        if(counter != 0):\n",
    "            if(paras.lum == 0):\n",
    "                x.addmag([photometry_dict[test_band]], [photometry_dict[test_band + 'e']])\n",
    "                paras = classify_direct.stparas(x, bcmodel=bcmodel, dustmodel=dustmodel, band=test_band, ext=ext, plot=plot)\n",
    "        else:\n",
    "            if(band_flag == 0):\n",
    "                print('No bandpass decided')\n",
    "                paras = classify_direct.stparas(x, bcmodel=bcmodel, dustmodel=dustmodel, band='jmag', ext=ext, plot=plot)\n",
    "    \n",
    "            else:\n",
    "                x.addmag([photometry_dict[test_band]], [photometry_dict[test_band + 'e']])\n",
    "                paras = classify_direct.stparas(x, bcmodel=bcmodel, dustmodel=dustmodel, band=test_band, ext=ext, plot=plot)\n",
    "    \n",
    "    # Store bolometric luminosity and teff\n",
    "    lum.append(paras.lum)\n",
    "    teff.append(paras.teff)\n",
    "    \n",
    "print('\\033[1m' + 'Isoclassify successfully run, parameters extracted')\n",
    "    \n",
    "# NOTES: Output Interpretation\n",
    "# Index: The index of data in your FITS file so that it can be referred to later\n",
    "# No Bandpass Decided: Isoclassify cannot utilize the photometry you have to calculate a distance modulus\n",
    "# No valid Teff provided or calculated, skipping: Isoclassify does not have enough photometry information \n",
    "#                                                 for its color-teff relations to find a teff.\n"
   ]
  },
  {
   "cell_type": "markdown",
   "metadata": {},
   "source": [
    "## Print Extracted Parameter Arrays"
   ]
  },
  {
   "cell_type": "code",
   "execution_count": null,
   "metadata": {
    "ExecuteTime": {
     "end_time": "2020-07-11T02:53:45.227355Z",
     "start_time": "2020-07-11T02:53:44.993082Z"
    }
   },
   "outputs": [],
   "source": [
    "# USER: Do not modify contents. Run as is.\n",
    "\n",
    "# Print number of non-NaN values \n",
    "lum = np.array(lum)\n",
    "teff = np.array(teff)\n",
    "\n",
    "lum[np.where(lum == 0)[0]] = np.nan\n",
    "teff[np.where(teff == 0)[0]] = np.nan\n",
    "\n",
    "if(print_bolometric_luminosities):\n",
    "    print('\\033[1m'  + 'Bolometric luminosities extracted: ' + '\\033[0m')\n",
    "    print(lum)\n",
    "    \n",
    "if(print_teffs):\n",
    "    print('\\033[1m'  + 'Teffs extracted: ' + '\\033[0m')\n",
    "    print(teff)\n",
    "    \n",
    "# If you are seeing NaN values in the parameter extractions, then not enough data was able for isoclassify to\n",
    "# provide a result"
   ]
  }
 ],
 "metadata": {
  "kernelspec": {
   "display_name": "Python 3",
   "language": "python",
   "name": "python3"
  },
  "language_info": {
   "codemirror_mode": {
    "name": "ipython",
    "version": 3
   },
   "file_extension": ".py",
   "mimetype": "text/x-python",
   "name": "python",
   "nbconvert_exporter": "python",
   "pygments_lexer": "ipython3",
   "version": "3.7.6"
  },
  "toc": {
   "base_numbering": 1,
   "nav_menu": {},
   "number_sections": true,
   "sideBar": true,
   "skip_h1_title": false,
   "title_cell": "Table of Contents",
   "title_sidebar": "Contents",
   "toc_cell": false,
   "toc_position": {},
   "toc_section_display": true,
   "toc_window_display": false
  }
 },
 "nbformat": 4,
 "nbformat_minor": 4
}
